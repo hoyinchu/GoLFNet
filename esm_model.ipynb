version https://git-lfs.github.com/spec/v1
oid sha256:59cec73f111d5cd1262bcbadf07d6c5dc728b8779ff51d44a3057c301398f824
size 19762
